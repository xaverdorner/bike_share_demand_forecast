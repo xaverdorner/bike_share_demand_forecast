{
 "cells": [
  {
   "cell_type": "markdown",
   "metadata": {},
   "source": [
    "# Predicting demand of a bike sharing service\n",
    "\n",
    "#### Applied prediction models: Linear regression, random forest, support vector regression \n",
    "\n",
    "This prediction task is based on a [Kaggle challenge](https://www.kaggle.com/c/bike-sharing-demand). Given is a dataset of Bikes rented at a station in Washington D.C. containing time and weather data as well as the number of bikes rented in the fist 19 days of a two year span. The task consists in predicting the demand in the remainding days of each month. "
   ]
  },
  {
   "cell_type": "markdown",
   "metadata": {},
   "source": [
    "### Loading necessary libraries"
   ]
  },
  {
   "cell_type": "code",
   "execution_count": 2,
   "metadata": {},
   "outputs": [],
   "source": [
    "# importing libraries \n",
    "import pandas as pd\n",
    "import numpy as np \n",
    "import matplotlib.pyplot as plt\n",
    "\n",
    "# train test split library\n",
    "from sklearn.model_selection import train_test_split\n",
    "\n",
    "# importing ML libraries and evaluators \n",
    "from sklearn.linear_model import LinearRegression\n",
    "from sklearn.ensemble import RandomForestRegressor\n",
    "from sklearn import svm\n",
    "\n",
    "# importing evaluation libraries\n",
    "from sklearn.metrics import mean_absolute_error\n",
    "from sklearn.metrics import mean_squared_log_error\n",
    "from sklearn import preprocessing\n",
    "\n",
    "# hyperparameter optimization w gridsearch\n",
    "from sklearn.model_selection import GridSearchCV\n",
    "from sklearn.model_selection import RandomizedSearchCV\n",
    "\n",
    "# supress warnings\n",
    "import warnings\n",
    "warnings.filterwarnings('ignore')"
   ]
  },
  {
   "cell_type": "markdown",
   "metadata": {},
   "source": [
    "### Loading and preparing the dataset "
   ]
  },
  {
   "cell_type": "code",
   "execution_count": 5,
   "metadata": {},
   "outputs": [],
   "source": [
    "# loading the training dataset \n",
    "df = pd.read_csv('../bike_train.csv', index_col=0)\n",
    "\n",
    "# prepare dataset & target  \n",
    "\n",
    "data = df\n",
    "\n",
    "X = data[data.columns].drop('count', axis=1)\n",
    "\n",
    "y = data['count']"
   ]
  },
  {
   "cell_type": "code",
   "execution_count": 6,
   "metadata": {},
   "outputs": [],
   "source": [
    "# train test splitting\n",
    "\n",
    "X_train, X_test, y_train, y_test = train_test_split(X, y, test_size=0.20, random_state=42)"
   ]
  },
  {
   "cell_type": "markdown",
   "metadata": {},
   "source": [
    "### Creating functions to clean and pre-process the data"
   ]
  },
  {
   "cell_type": "code",
   "execution_count": 7,
   "metadata": {},
   "outputs": [],
   "source": [
    "# casting index to datetime\n",
    "\n",
    "def time(dataset):\n",
    "    '''Takes dataset with date time as index, \n",
    "    creates new columns year, month, hour'''\n",
    "    dataset.index = pd.to_datetime(dataset.index)\n",
    "    #creating new columns w datetime \n",
    "    dataset['year'] = dataset.index.year\n",
    "    dataset['month'] = dataset.index.month\n",
    "    dataset['weekday'] = dataset.index.weekday\n",
    "    dataset['hour'] = dataset.index.hour\n",
    "    return dataset"
   ]
  },
  {
   "cell_type": "code",
   "execution_count": 8,
   "metadata": {},
   "outputs": [],
   "source": [
    "# Creating categorical bins of hour column values \n",
    "\n",
    "df = time(df)\n",
    "labels = [1,2,3,4]\n",
    "hour_bins = pd.qcut(df.groupby('hour')['count'].sum(), q=4, labels=labels).astype('int')\n",
    "\n",
    "hour_frame = pd.DataFrame(hour_bins)\n",
    "\n",
    "def binner(x):\n",
    "    return hour_frame.loc[x]"
   ]
  },
  {
   "cell_type": "code",
   "execution_count": 9,
   "metadata": {},
   "outputs": [],
   "source": [
    "# scaling function \n",
    "\n",
    "def scaling(dataset):\n",
    "    #defining scaling clumns \n",
    "    columns = ['temp', 'atemp', 'humidity', 'windspeed']\n",
    "    for feature in columns:\n",
    "        # 1.convert the column value of the dataframe as floats\n",
    "        float_array = dataset[feature].values.astype(float).reshape(-1, 1)\n",
    "        # 2. create a min max processing object\n",
    "        # scaler = preprocessing.MinMaxScaler() RobustScaler\n",
    "        scaler = preprocessing.RobustScaler()\n",
    "        scaled_array = scaler.fit_transform(float_array)\n",
    "        # 3. add scaled array to dataframe\n",
    "        dataset[feature] = scaled_array\n",
    "    return dataset"
   ]
  },
  {
   "cell_type": "code",
   "execution_count": 10,
   "metadata": {},
   "outputs": [],
   "source": [
    "# enigneering function \n",
    "\n",
    "def engin(dataset):\n",
    "    \"\"\"Takes a dataset, removes redundant columns, casts index to datetime, dummy encodes seasons, year, \n",
    "    and put hours in 4 buckets\"\"\"\n",
    "    # removing redundant columns\n",
    "    red_cols = ['registered', 'casual']\n",
    "    for feature in red_cols:\n",
    "        if feature in dataset.columns:\n",
    "            dataset.drop(['registered', 'casual'], axis=1, inplace=True)\n",
    "    # casting time to year, month, hour\n",
    "    dataset = time(dataset)\n",
    "    # dummy seasons \n",
    "    cat_cols = ['season']\n",
    "    for feature in cat_cols:\n",
    "        if feature in dataset.columns:\n",
    "            dataset = pd.get_dummies(dataset,columns=cat_cols,drop_first=False)    \n",
    "    # converting year in binary categories\n",
    "    dataset.year = dataset.year.map({2011: 0, 2012: 1})    \n",
    "    # converting hour to 4 categories \n",
    "    dataset.hour = dataset.hour.apply(binner)\n",
    "    # scaling columns \n",
    "    dataset = scaling(dataset)\n",
    "    return dataset"
   ]
  },
  {
   "cell_type": "code",
   "execution_count": 11,
   "metadata": {},
   "outputs": [],
   "source": [
    "# Engineering the datasets to prepare them for model fitting \n",
    "\n",
    "X_eng = engin(X_train)\n",
    "Xtest_eng = engin(X_test)"
   ]
  },
  {
   "cell_type": "markdown",
   "metadata": {},
   "source": [
    "### Model fitting"
   ]
  },
  {
   "cell_type": "code",
   "execution_count": 12,
   "metadata": {},
   "outputs": [],
   "source": [
    "# INSTANTIATING LINEAR MODEL\n",
    "linear_model = LinearRegression()\n",
    "\n",
    "# INSTANTIATING FOREST MODEL \n",
    "forest_model = RandomForestRegressor()\n",
    "\n",
    "# INSTANTIATING SUPPORT VECTOR REGRESSOR\n",
    "supvec_model = svm.SVR()"
   ]
  },
  {
   "cell_type": "code",
   "execution_count": 13,
   "metadata": {},
   "outputs": [],
   "source": [
    "# model fitting and predicting y values\n",
    "\n",
    "def model_fitter(model, trainset, target, testset):\n",
    "    \"\"\"Example values: model: linear_model, trainset: X_train, target: y_train, testset: X_test\"\"\"\n",
    "    \n",
    "    model.fit(trainset, target)\n",
    "    y_pred = model.predict(testset)\n",
    "    return y_pred"
   ]
  },
  {
   "cell_type": "markdown",
   "metadata": {},
   "source": [
    "### Linear model: Fitting & predicting (Training data)"
   ]
  },
  {
   "cell_type": "code",
   "execution_count": 14,
   "metadata": {},
   "outputs": [
    {
     "data": {
      "text/plain": [
       "array([181.77288555,  63.60146283, 296.85598845, ..., 322.24513777,\n",
       "       -13.50127235, 381.23877974])"
      ]
     },
     "execution_count": 14,
     "metadata": {},
     "output_type": "execute_result"
    }
   ],
   "source": [
    "y_lin_default = model_fitter(linear_model, X_eng, y_train, Xtest_eng)\n",
    "\n",
    "y_lin_default"
   ]
  },
  {
   "cell_type": "markdown",
   "metadata": {},
   "source": [
    "### Forest model: Fitting & predicting (Training data) "
   ]
  },
  {
   "cell_type": "code",
   "execution_count": 15,
   "metadata": {},
   "outputs": [
    {
     "data": {
      "text/plain": [
       "array([118.2,  68.8, 168.4, ..., 424. ,  15.1, 309.1])"
      ]
     },
     "execution_count": 15,
     "metadata": {},
     "output_type": "execute_result"
    }
   ],
   "source": [
    "y_for_default = model_fitter(forest_model, X_eng, y_train, Xtest_eng)\n",
    "\n",
    "y_for_default"
   ]
  },
  {
   "cell_type": "code",
   "execution_count": 16,
   "metadata": {},
   "outputs": [
    {
     "data": {
      "text/plain": [
       "0.48541521104032775"
      ]
     },
     "execution_count": 16,
     "metadata": {},
     "output_type": "execute_result"
    }
   ],
   "source": [
    "mean_squared_log_error(y_test, y_for_default)"
   ]
  },
  {
   "cell_type": "markdown",
   "metadata": {},
   "source": [
    "### Forest model – hyperparameter optimized: Fitting & predicting (Training data)"
   ]
  },
  {
   "cell_type": "code",
   "execution_count": 17,
   "metadata": {},
   "outputs": [],
   "source": [
    "# model has been instanciated above \n",
    "\n",
    "param_grid = {\n",
    "    'max_depth': [1, 4, 8, 32, 128, None],\n",
    "    'n_estimators': [1, 10, 100, 1000]\n",
    "}\n",
    "\n",
    "def grid_searcher(model, trainset, train_target):\n",
    "    \"\"\"Gives predicted y values and gridsearch model. \n",
    "    Example values: model: linear_model, trainset: X_train, target: y_train\"\"\"\n",
    "    ranfor_random = RandomizedSearchCV(estimator = model, \n",
    "                                   param_distributions = param_grid, \n",
    "                                   return_train_score=True,\n",
    "                                   cv=5, \n",
    "                                   n_jobs=2)\n",
    "               \n",
    "    # Fit the random search model\n",
    "    ranfor_random.fit(trainset, train_target)\n",
    "    return ranfor_random.best_estimator_"
   ]
  },
  {
   "cell_type": "code",
   "execution_count": 18,
   "metadata": {},
   "outputs": [
    {
     "data": {
      "text/plain": [
       "RandomForestRegressor(bootstrap=True, criterion='mse', max_depth=128,\n",
       "                      max_features='auto', max_leaf_nodes=None,\n",
       "                      min_impurity_decrease=0.0, min_impurity_split=None,\n",
       "                      min_samples_leaf=1, min_samples_split=2,\n",
       "                      min_weight_fraction_leaf=0.0, n_estimators=1000,\n",
       "                      n_jobs=None, oob_score=False, random_state=None,\n",
       "                      verbose=0, warm_start=False)"
      ]
     },
     "execution_count": 18,
     "metadata": {},
     "output_type": "execute_result"
    }
   ],
   "source": [
    "best_forest = grid_searcher(forest_model, X_eng, y_train)\n",
    "best_forest"
   ]
  },
  {
   "cell_type": "code",
   "execution_count": 19,
   "metadata": {},
   "outputs": [
    {
     "data": {
      "text/plain": [
       "array([127.54886667, 101.612     , 159.437     , ..., 436.318     ,\n",
       "        28.67668333, 353.44255   ])"
      ]
     },
     "execution_count": 19,
     "metadata": {},
     "output_type": "execute_result"
    }
   ],
   "source": [
    "# best forest evaluating\n",
    "y_bestforest = model_fitter(best_forest, X_eng, y_train, Xtest_eng)\n",
    "y_bestforest"
   ]
  },
  {
   "cell_type": "code",
   "execution_count": 20,
   "metadata": {},
   "outputs": [
    {
     "data": {
      "text/plain": [
       "0.4540832614253353"
      ]
     },
     "execution_count": 20,
     "metadata": {},
     "output_type": "execute_result"
    }
   ],
   "source": [
    "# best forest score\n",
    "mean_squared_log_error(y_test, y_bestforest)"
   ]
  },
  {
   "cell_type": "markdown",
   "metadata": {},
   "source": [
    "### Comparing the accuracy of predictions of different models "
   ]
  },
  {
   "cell_type": "code",
   "execution_count": 29,
   "metadata": {},
   "outputs": [
    {
     "data": {
      "image/png": "[encoded data removed]",
      "text/plain": [
       "<Figure size 720x576 with 1 Axes>"
      ]
     },
     "metadata": {
      "needs_background": "light"
     },
     "output_type": "display_data"
    }
   ],
   "source": [
    "# plotting predicted values against 'y_test'\n",
    "\n",
    "plot_frame = pd.DataFrame({'True Demand': y_test, \n",
    "                           'Linear Regression': y_lin_default, \n",
    "                           'Random Random Forest (default)': y_for_default, \n",
    "                          'Optimized Random Forest': y_bestforest})\n",
    "\n",
    "#plt.figure(figsize=(10,8))\n",
    "plot_frame.iloc[:10].plot(figsize=(10,8))\n",
    "plt.title('Comparison of different prediction models')\n",
    "plt.grid()\n",
    "plt.xticks(rotation=20)\n",
    "plt.savefig('bike_prediction_comparison.png')"
   ]
  },
  {
   "cell_type": "markdown",
   "metadata": {},
   "source": [
    "### Fitting best model on test data"
   ]
  },
  {
   "cell_type": "code",
   "execution_count": 23,
   "metadata": {},
   "outputs": [],
   "source": [
    "test = pd.read_csv('../bike_test.csv', index_col=0)"
   ]
  },
  {
   "cell_type": "code",
   "execution_count": 24,
   "metadata": {},
   "outputs": [],
   "source": [
    "# eningeering datasets\n",
    "X_final = scaling(engin(X))\n",
    "test_final = scaling(engin(test))"
   ]
  },
  {
   "cell_type": "code",
   "execution_count": 25,
   "metadata": {},
   "outputs": [],
   "source": [
    "# fitting on test data and predicting\n",
    "best_forest.fit(X_final, y)\n",
    "y_pred = best_forest.predict(test_final)"
   ]
  },
  {
   "cell_type": "code",
   "execution_count": 26,
   "metadata": {},
   "outputs": [
    {
     "data": {
      "text/plain": [
       "array([  6.19471667,   8.8633    ,   8.8633    , ..., 109.12663333,\n",
       "       113.3365381 , 106.24943333])"
      ]
     },
     "execution_count": 26,
     "metadata": {},
     "output_type": "execute_result"
    }
   ],
   "source": [
    "y_pred"
   ]
  },
  {
   "cell_type": "markdown",
   "metadata": {},
   "source": [
    "### Printing results"
   ]
  },
  {
   "cell_type": "code",
   "execution_count": 27,
   "metadata": {},
   "outputs": [],
   "source": [
    "def sub_printer(dataset, test_results):\n",
    "        \n",
    "    # removing unnecessary columns\n",
    "    for column in dataset.columns:\n",
    "        if column in dataset.columns:\n",
    "            dataset.drop(column, axis=1, inplace=True)\n",
    "    \n",
    "    dataset = dataset.reset_index()\n",
    "    dataset['count'] = test_results\n",
    "    dataset.set_index('datetime', inplace=True)\n",
    "            \n",
    "    return dataset\n",
    "    # printing to csv\n",
    "    # dataset.to_csv('bike_submission.csv', index=True, header =1)"
   ]
  },
  {
   "cell_type": "code",
   "execution_count": 28,
   "metadata": {},
   "outputs": [
    {
     "data": {
      "text/html": [
       "<div>\n",
       "<style scoped>\n",
       "    .dataframe tbody tr th:only-of-type {\n",
       "        vertical-align: middle;\n",
       "    }\n",
       "\n",
       "    .dataframe tbody tr th {\n",
       "        vertical-align: top;\n",
       "    }\n",
       "\n",
       "    .dataframe thead th {\n",
       "        text-align: right;\n",
       "    }\n",
       "</style>\n",
       "<table border=\"1\" class=\"dataframe\">\n",
       "  <thead>\n",
       "    <tr style=\"text-align: right;\">\n",
       "      <th></th>\n",
       "      <th>count</th>\n",
       "    </tr>\n",
       "    <tr>\n",
       "      <th>datetime</th>\n",
       "      <th></th>\n",
       "    </tr>\n",
       "  </thead>\n",
       "  <tbody>\n",
       "    <tr>\n",
       "      <td>2011-01-20 00:00:00</td>\n",
       "      <td>6.194717</td>\n",
       "    </tr>\n",
       "    <tr>\n",
       "      <td>2011-01-20 01:00:00</td>\n",
       "      <td>8.863300</td>\n",
       "    </tr>\n",
       "    <tr>\n",
       "      <td>2011-01-20 02:00:00</td>\n",
       "      <td>8.863300</td>\n",
       "    </tr>\n",
       "    <tr>\n",
       "      <td>2011-01-20 03:00:00</td>\n",
       "      <td>6.684505</td>\n",
       "    </tr>\n",
       "    <tr>\n",
       "      <td>2011-01-20 04:00:00</td>\n",
       "      <td>6.684505</td>\n",
       "    </tr>\n",
       "    <tr>\n",
       "      <td>...</td>\n",
       "      <td>...</td>\n",
       "    </tr>\n",
       "    <tr>\n",
       "      <td>2012-12-31 19:00:00</td>\n",
       "      <td>451.276333</td>\n",
       "    </tr>\n",
       "    <tr>\n",
       "      <td>2012-12-31 20:00:00</td>\n",
       "      <td>257.618000</td>\n",
       "    </tr>\n",
       "    <tr>\n",
       "      <td>2012-12-31 21:00:00</td>\n",
       "      <td>109.126633</td>\n",
       "    </tr>\n",
       "    <tr>\n",
       "      <td>2012-12-31 22:00:00</td>\n",
       "      <td>113.336538</td>\n",
       "    </tr>\n",
       "    <tr>\n",
       "      <td>2012-12-31 23:00:00</td>\n",
       "      <td>106.249433</td>\n",
       "    </tr>\n",
       "  </tbody>\n",
       "</table>\n",
       "<p>6493 rows × 1 columns</p>\n",
       "</div>"
      ],
      "text/plain": [
       "                          count\n",
       "datetime                       \n",
       "2011-01-20 00:00:00    6.194717\n",
       "2011-01-20 01:00:00    8.863300\n",
       "2011-01-20 02:00:00    8.863300\n",
       "2011-01-20 03:00:00    6.684505\n",
       "2011-01-20 04:00:00    6.684505\n",
       "...                         ...\n",
       "2012-12-31 19:00:00  451.276333\n",
       "2012-12-31 20:00:00  257.618000\n",
       "2012-12-31 21:00:00  109.126633\n",
       "2012-12-31 22:00:00  113.336538\n",
       "2012-12-31 23:00:00  106.249433\n",
       "\n",
       "[6493 rows x 1 columns]"
      ]
     },
     "execution_count": 28,
     "metadata": {},
     "output_type": "execute_result"
    }
   ],
   "source": [
    "sub_printer(test_final, y_pred)"
   ]
  }
 ],
 "metadata": {
  "kernelspec": {
   "display_name": "Python 3",
   "language": "python",
   "name": "python3"
  },
  "language_info": {
   "codemirror_mode": {
    "name": "ipython",
    "version": 3
   },
   "file_extension": ".py",
   "mimetype": "text/x-python",
   "name": "python",
   "nbconvert_exporter": "python",
   "pygments_lexer": "ipython3",
   "version": "3.7.4"
  }
 },
 "nbformat": 4,
 "nbformat_minor": 2
}
